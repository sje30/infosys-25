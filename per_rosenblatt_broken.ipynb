{
  "cells": [
    {
      "cell_type": "markdown",
      "metadata": {},
      "source": [
        "## Copyright notice\n",
        "\n",
        "*All material not in the public domain is subject to copyright\n",
        "(University of Cambridge and/or its licensors) and is licensed for\n",
        "personal / professional education use only.*\n",
        "\n",
        "\n",
        "# Broken perceptron\n",
        "\n",
        "Can you find the bug in the following code?\n",
        "\n",
        "\n",
        "## part one - the data\n"
      ]
    },
    {
      "cell_type": "code",
      "metadata": {},
      "source": [
        "## This file is broken and has one bug in it.\n",
        "\n",
        "import numpy as np\n",
        "import matplotlib.pyplot as plt\n",
        "import io\n",
        "## this is the contents of eg2d.csv -- embedding into the notebook\n",
        "## is easier than copying the file across to colab.\n",
        "content = '''\\\n",
        "x1,x2,t\n",
        "0.2548729, 1.0172471, 1 \n",
        "0.3493009, 1.0451711, 1 \n",
        "0.4210662, 1.0123194, 1 \n",
        "0.3228611, 0.9630418, 1 \n",
        "0.3568552, 0.9334753, 1 \n",
        "0.5608197, 0.9613992, 1 \n",
        "0.6136994, 1.0057490, 1 \n",
        "0.6967961, 1.0468137, 1 \n",
        "0.7836699, 1.0993764, 1 \n",
        "0.6401393, 1.1404411, 1 \n",
        "0.04351973, 1.125658, 0 \n",
        "0.21332454, 1.107589, 0 \n",
        "0.32663819, 1.125658, 0 \n",
        "0.41728911, 1.156867, 0 \n",
        "0.53060275, 1.214357, 0 \n",
        "0.40218062, 1.255422, 0 \n",
        "0.62503079, 1.220928, 0 \n",
        "0.74967581, 1.225856, 0 \n",
        "0.69301898, 1.281703, 0 \n",
        "0.47394593,1.229141, 0\n",
        "'''\n",
        "\n",
        "## read in data\n",
        "\n",
        "##data = np.loadtxt(\"eg2d.dat\", delimiter=\",\",skiprows=1)\n",
        "data = np.loadtxt(io.StringIO(content), delimiter=\",\",skiprows=1)\n",
        "data.shape"
      ],
      "execution_count": null,
      "outputs": []
    },
    {
      "cell_type": "markdown",
      "metadata": {},
      "source": [
        "## part two - plot the data \n"
      ]
    },
    {
      "cell_type": "code",
      "metadata": {},
      "source": [
        "ninputs = data.shape[0]\n",
        "wts = np.array([1, 1, 1.5])\n",
        "\n",
        "def show_points(data, wts, plt, title):\n",
        "    plt.clf()\n",
        "    colors=np.array([\"red\", \"blue\"])\n",
        "    plt.scatter(data[:,0], data[:,1], c=colors[data[:,2].astype(int)])\n",
        "    plt.axis('equal')\n",
        "    intercept = wts[2]/wts[1] # a\n",
        "    slope = -wts[0]/wts[1]    # b\n",
        "    plt.axline( (0, intercept), slope=slope)\n",
        "    plt.xlim([0.0, 1.0])\n",
        "    plt.ylim([0.8, 1.5])\n",
        "    plt.title(title)\n",
        "    plt.show()\n",
        "\n",
        "plt.ion()    \n",
        "show_points(data, wts, plt, 'start')"
      ],
      "execution_count": null,
      "outputs": []
    },
    {
      "cell_type": "markdown",
      "metadata": {},
      "source": [
        "## part three - learn the association\n",
        "\n",
        "Now let's try to learn the association between inputs and output.\n"
      ]
    },
    {
      "cell_type": "code",
      "metadata": {},
      "source": [
        "epsilon = 0.03\n",
        "nepochs = 100\n",
        "\n",
        "\n",
        "x = np.array([0.0, 0.0, -1])\n",
        "for epoch in range(nepochs):\n",
        "    error = 0.0\n",
        "    order = np.random.choice(ninputs, ninputs,replace=False)\n",
        "\n",
        "    for iteration in range(ninputs):\n",
        "        i = order[iteration]\n",
        "        x[0] = data[i,0]\n",
        "        x[1] = data[i,1]\n",
        "        t    = data[i,2]\n",
        "        a = np.dot(x, wts)\n",
        "        y = a > 0\n",
        "        error = error + (0.5 *(t-y)**2)\n",
        "        dw = epsilon * (y-t) * x\n",
        "        wts = wts + dw\n",
        "    title=f\"Epoch {epoch} error {error}\"\n",
        "    print(title)\n",
        "    if (epoch % 5) == 0:\n",
        "        show_points(data, wts, plt, title)\n",
        "        ##plt.pause(0.05)\n",
        "\n",
        "    \n",
        "## Questions, what happens if you use i=iteration?\n",
        "## What if you use np.heaviside to calculate output y?  (much quicker)"
      ],
      "execution_count": null,
      "outputs": []
    }
  ],
  "metadata": {
    "kernelspec": {
      "display_name": "Python 3",
      "language": "python",
      "name": "python3"
    }
  },
  "nbformat": 4,
  "nbformat_minor": 4
}