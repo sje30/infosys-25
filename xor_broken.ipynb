{
 "cells": [
  {
   "cell_type": "markdown",
   "metadata": {},
   "source": [
    "## Copyright notice\n",
    "\n",
    "*All material not in the public domain is subject to copyright\n",
    "(University of Cambridge and/or its licensors) and is licensed for\n",
    "personal / professional education use only.*\n",
    "\n",
    "\n",
    "# Broken MLP\n",
    "\n",
    "Can you find the five bugs in the following code?\n"
   ]
  },
  {
   "cell_type": "code",
   "execution_count": 1,
   "metadata": {},
   "outputs": [
    {
     "data": {
      "image/png": "[encoded data removed]",
      "text/plain": [
       "<Figure size 640x480 with 1 Axes>"
      ]
     },
     "metadata": {},
     "output_type": "display_data"
    }
   ],
   "source": [
    "import math\n",
    "import numpy as np\n",
    "import matplotlib.pyplot as plt\n",
    "\n",
    "def g(x):\n",
    "    return ( 1.0 /  (1.0 + math.exp(-x) ))\n",
    "\n",
    "def gprime(x):\n",
    "    return ( x * (1-x) )\n",
    "\n",
    "\n",
    "## check these are the right shape.\n",
    "\n",
    "xs = np.linspace(-3, 3, 100)\n",
    "gs = [g(x) for x in xs]\n",
    "gps = [gprime(x) for x in xs]\n",
    "\n",
    "plt.ion()\n",
    "plt.clf()\n",
    "plt.xlabel(\"x\")\n",
    "plt.ylabel(\"g or gprime\")\n",
    "plt.plot(xs, gs,  label=\"g, activation\")\n",
    "plt.plot(xs, gps,  label=\"gprime\")\n",
    "plt.legend()\n",
    "plt.show()"
   ]
  },
  {
   "cell_type": "markdown",
   "metadata": {},
   "source": [
    "## Training data and constants"
   ]
  },
  {
   "cell_type": "code",
   "execution_count": 2,
   "metadata": {},
   "outputs": [],
   "source": [
    "bias = 0                       # value of bias unit\n",
    "\n",
    "epsilon = 0.5\n",
    "\n",
    "data = np.array([[0, 0, bias, 0],\n",
    "                 [0, 1, bias, 1],\n",
    "                 [1, 0, bias, 1],\n",
    "                 [1, 1, bias, 0],\n",
    "                 ]\n",
    "                )\n",
    "\n",
    "targets = data[:,3]\n",
    "inputs = data[:,0:3]"
   ]
  },
  {
   "cell_type": "markdown",
   "metadata": {},
   "source": [
    "## Network architecture"
   ]
  },
  {
   "cell_type": "code",
   "execution_count": 3,
   "metadata": {},
   "outputs": [],
   "source": [
    "ninputs = inputs.shape[0]\n",
    "\n",
    "I=2                             # number of input units, excluding bias\n",
    "J=2                             # number of hidden units, excluding bias\n",
    "K=1                             # only one output unit\n",
    "\n",
    "## Weight matrices\n",
    "\n",
    "W1 = np.random.rand(J,I+1)\n",
    "W2 = np.random.rand(K,J+1)\n",
    "\n",
    "\n",
    "y_j = np.zeros(J+1)             # outputs of hidden units\n",
    "delta_j = np.zeros(J)           # delta for hidden units\n",
    "\n",
    "nepoch = 2000\n",
    "errors = np.zeros(nepoch)"
   ]
  },
  {
   "cell_type": "markdown",
   "metadata": {},
   "source": [
    "## Training"
   ]
  },
  {
   "cell_type": "code",
   "execution_count": 4,
   "metadata": {},
   "outputs": [
    {
     "name": "stdout",
     "output_type": "stream",
     "text": [
      "Epoch 0 error 0.5016\n",
      "Epoch 50 error nan\n",
      "Epoch 100 error nan\n",
      "Epoch 150 error nan\n",
      "Epoch 200 error nan\n",
      "Epoch 250 error nan\n",
      "Epoch 300 error nan\n",
      "Epoch 350 error nan\n",
      "Epoch 400 error nan\n",
      "Epoch 450 error nan\n",
      "Epoch 500 error nan\n",
      "Epoch 550 error nan\n",
      "Epoch 600 error nan\n",
      "Epoch 650 error nan\n",
      "Epoch 700 error nan\n",
      "Epoch 750 error nan\n",
      "Epoch 800 error nan\n",
      "Epoch 850 error nan\n",
      "Epoch 900 error nan\n",
      "Epoch 950 error nan\n",
      "Epoch 1000 error nan\n",
      "Epoch 1050 error nan\n",
      "Epoch 1100 error nan\n",
      "Epoch 1150 error nan\n",
      "Epoch 1200 error nan\n",
      "Epoch 1250 error nan\n",
      "Epoch 1300 error nan\n",
      "Epoch 1350 error nan\n",
      "Epoch 1400 error nan\n",
      "Epoch 1450 error nan\n",
      "Epoch 1500 error nan\n",
      "Epoch 1550 error nan\n",
      "Epoch 1600 error nan\n",
      "Epoch 1650 error nan\n",
      "Epoch 1700 error nan\n",
      "Epoch 1750 error nan\n",
      "Epoch 1800 error nan\n",
      "Epoch 1850 error nan\n",
      "Epoch 1900 error nan\n",
      "Epoch 1950 error nan\n"
     ]
    },
    {
     "name": "stderr",
     "output_type": "stream",
     "text": [
      "/var/folders/dk/h27sxrrj3mg6myd8ht0ym9300000gn/T/ipykernel_25115/1056693143.py:41: DeprecationWarning: Conversion of an array with ndim > 0 to a scalar is deprecated, and will error in future. Ensure you extract a single element from your array before performing this operation. (Deprecated NumPy 1.25.)\n",
      "  DW2[r,q] += y_j[q] * delta_k\n",
      "/var/folders/dk/h27sxrrj3mg6myd8ht0ym9300000gn/T/ipykernel_25115/1056693143.py:47: DeprecationWarning: Conversion of an array with ndim > 0 to a scalar is deprecated, and will error in future. Ensure you extract a single element from your array before performing this operation. (Deprecated NumPy 1.25.)\n",
      "  delta_j[q] = gprime(a_j[q]) * delta_k * W2[0,q]\n",
      "/var/folders/dk/h27sxrrj3mg6myd8ht0ym9300000gn/T/ipykernel_25115/1056693143.py:29: RuntimeWarning: overflow encountered in square\n",
      "  error = np.sum(0.5 * (t_k - y_k)**2 )\n",
      "/var/folders/dk/h27sxrrj3mg6myd8ht0ym9300000gn/T/ipykernel_25115/2539934917.py:9: RuntimeWarning: overflow encountered in multiply\n",
      "  return ( x * (1-x) )\n",
      "/var/folders/dk/h27sxrrj3mg6myd8ht0ym9300000gn/T/ipykernel_25115/1056693143.py:41: RuntimeWarning: invalid value encountered in multiply\n",
      "  DW2[r,q] += y_j[q] * delta_k\n",
      "/var/folders/dk/h27sxrrj3mg6myd8ht0ym9300000gn/T/ipykernel_25115/1056693143.py:47: RuntimeWarning: invalid value encountered in multiply\n",
      "  delta_j[q] = gprime(a_j[q]) * delta_k * W2[0,q]\n"
     ]
    }
   ],
   "source": [
    "for epoch in range(nepoch):\n",
    "\n",
    "    ## accumulate errors for weight matrices\n",
    "    DW1 = np.zeros(W1.shape)\n",
    "    DW2 = np.zeros(W2.shape)\n",
    "    epoch_err = 0.0\n",
    "\n",
    "    for i in range(ninputs):\n",
    "\n",
    "        ## Step 1. Forward propagation activity, adding\n",
    "        ## bias activity along the way.\n",
    "\n",
    "\n",
    "        ## 1a - input to hidden\n",
    "        y_i = inputs[i,:]\n",
    "        a_j = np.matmul(W1, y_i)\n",
    "\n",
    "        for q in range(J):\n",
    "            y_j[q] = g( a_j[q] )\n",
    "\n",
    "        y_j[J] = bias\n",
    "\n",
    "        ## 1b - hidden to output\n",
    "        a_k = np.matmul(W2, y_j)\n",
    "        y_k = a_k\n",
    "\n",
    "        ## 1c - compare output to target\n",
    "        t_k  = targets[i]\n",
    "        error = np.sum(0.5 * (t_k - y_k)**2 )\n",
    "        epoch_err += error\n",
    "\n",
    "        ## Step 2.  Back propagate activity, calculating\n",
    "        ## errors and dw along the way.\n",
    "\n",
    "\n",
    "        ## 2a - output to hidden\n",
    "        delta_k = gprime(a_k) \n",
    "        for q in range(J+1):\n",
    "            ##for r in range(K):\n",
    "            r=0\n",
    "            DW2[r,q] += y_j[q] * delta_k\n",
    "                \n",
    "            \n",
    "        ## 2b - calculate delta for hidden layer\n",
    "\n",
    "        for q in range(J):\n",
    "            delta_j[q] = gprime(a_j[q]) * delta_k * W2[0,q]\n",
    "\n",
    "        ## 2c - calculate error for input to hidden weights\n",
    "        for p in range(I+1):\n",
    "            for q in range(J):\n",
    "                DW1[q,p] += y_i[p] \n",
    "\n",
    "\n",
    "    ## end of an epoch - now update weights\n",
    "    errors[epoch] = epoch_err\n",
    "    if ( epoch % 50)== 0:\n",
    "        print(f'Epoch {epoch} error {epoch_err:.4f}')\n",
    "\n",
    "    W1 = W1 + (epsilon*DW1)\n",
    "    W2 = W2 + (epsilon*DW2)\n",
    "        \n",
    "## how has it worked?"
   ]
  },
  {
   "cell_type": "code",
   "execution_count": null,
   "metadata": {},
   "outputs": [],
   "source": []
  }
 ],
 "metadata": {
  "kernelspec": {
   "display_name": "Python 3 (ipykernel)",
   "language": "python",
   "name": "python3"
  },
  "language_info": {
   "codemirror_mode": {
    "name": "ipython",
    "version": 3
   },
   "file_extension": ".py",
   "mimetype": "text/x-python",
   "name": "python",
   "nbconvert_exporter": "python",
   "pygments_lexer": "ipython3",
   "version": "3.11.3"
  }
 },
 "nbformat": 4,
 "nbformat_minor": 4
}
